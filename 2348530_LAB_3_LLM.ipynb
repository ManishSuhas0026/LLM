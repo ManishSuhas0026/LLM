{
  "cells": [
    {
      "cell_type": "markdown",
      "metadata": {
        "id": "view-in-github",
        "colab_type": "text"
      },
      "source": [
        "<a href=\"https://colab.research.google.com/github/ManishSuhas0026/LLM/blob/main/2348530_LAB_3_LLM.ipynb\" target=\"_parent\"><img src=\"https://colab.research.google.com/assets/colab-badge.svg\" alt=\"Open In Colab\"/></a>"
      ]
    },
    {
      "cell_type": "code",
      "execution_count": null,
      "id": "6729f757-89f4-4ae6-bdd5-6cdd0ce48912",
      "metadata": {
        "id": "6729f757-89f4-4ae6-bdd5-6cdd0ce48912",
        "outputId": "ce727423-0f73-4338-aee2-d0f24d26342b"
      },
      "outputs": [
        {
          "name": "stdout",
          "output_type": "stream",
          "text": [
            "Collecting groq\n",
            "  Downloading groq-0.9.0-py3-none-any.whl.metadata (13 kB)\n",
            "Requirement already satisfied: anyio<5,>=3.5.0 in c:\\users\\destop\\anaconda3\\lib\\site-packages (from groq) (4.2.0)\n",
            "Requirement already satisfied: distro<2,>=1.7.0 in c:\\users\\destop\\anaconda3\\lib\\site-packages (from groq) (1.8.0)\n",
            "Collecting httpx<1,>=0.23.0 (from groq)\n",
            "  Downloading httpx-0.27.0-py3-none-any.whl.metadata (7.2 kB)\n",
            "Requirement already satisfied: pydantic<3,>=1.9.0 in c:\\users\\destop\\anaconda3\\lib\\site-packages (from groq) (1.10.12)\n",
            "Requirement already satisfied: sniffio in c:\\users\\destop\\anaconda3\\lib\\site-packages (from groq) (1.3.0)\n",
            "Requirement already satisfied: typing-extensions<5,>=4.7 in c:\\users\\destop\\anaconda3\\lib\\site-packages (from groq) (4.11.0)\n",
            "Requirement already satisfied: idna>=2.8 in c:\\users\\destop\\anaconda3\\lib\\site-packages (from anyio<5,>=3.5.0->groq) (3.4)\n",
            "Requirement already satisfied: certifi in c:\\users\\destop\\anaconda3\\lib\\site-packages (from httpx<1,>=0.23.0->groq) (2024.2.2)\n",
            "Collecting httpcore==1.* (from httpx<1,>=0.23.0->groq)\n",
            "  Downloading httpcore-1.0.5-py3-none-any.whl.metadata (20 kB)\n",
            "Requirement already satisfied: h11<0.15,>=0.13 in c:\\users\\destop\\anaconda3\\lib\\site-packages (from httpcore==1.*->httpx<1,>=0.23.0->groq) (0.14.0)\n",
            "Downloading groq-0.9.0-py3-none-any.whl (103 kB)\n",
            "   ---------------------------------------- 0.0/103.5 kB ? eta -:--:--\n",
            "   --------------------------- ------------ 71.7/103.5 kB 2.0 MB/s eta 0:00:01\n",
            "   ---------------------------------------- 103.5/103.5 kB 2.0 MB/s eta 0:00:00\n",
            "Downloading httpx-0.27.0-py3-none-any.whl (75 kB)\n",
            "   ---------------------------------------- 0.0/75.6 kB ? eta -:--:--\n",
            "   ---------------------------------------- 75.6/75.6 kB 4.4 MB/s eta 0:00:00\n",
            "Downloading httpcore-1.0.5-py3-none-any.whl (77 kB)\n",
            "   ---------------------------------------- 0.0/77.9 kB ? eta -:--:--\n",
            "   ---------------------------------------- 77.9/77.9 kB 2.2 MB/s eta 0:00:00\n",
            "Installing collected packages: httpcore, httpx, groq\n",
            "Successfully installed groq-0.9.0 httpcore-1.0.5 httpx-0.27.0\n",
            "Note: you may need to restart the kernel to use updated packages.\n"
          ]
        }
      ],
      "source": [
        "pip install groq"
      ]
    },
    {
      "cell_type": "code",
      "execution_count": null,
      "id": "9fde2eec-39d4-4a6c-800d-6f68ce579127",
      "metadata": {
        "id": "9fde2eec-39d4-4a6c-800d-6f68ce579127",
        "outputId": "9086b8d8-3f38-49a1-cf47-74f46cdde4d9"
      },
      "outputs": [
        {
          "name": "stdout",
          "output_type": "stream",
          "text": [
            "Welcome to the Story Generator chatbot! Type 'exit' to end the conversation.\n"
          ]
        },
        {
          "name": "stdin",
          "output_type": "stream",
          "text": [
            "Enter a story prompt:  mike tyson\n"
          ]
        },
        {
          "name": "stdout",
          "output_type": "stream",
          "text": [
            "Story: It was a hot summer evening, and Mike Tyson was sitting in his sprawling estate overlooking the Los Angeles skyline. The sun had just set, casting a golden glow over the sprawling gardens and orchards. Inside, the tension in the air was palpable.\n",
            "\n",
            "Tyson, the former world heavyweight champion, was a force to be reckoned with in the boxing ring, but outside of it, his personal demons had haunted him for years. His addiction to cocaine, his violence, and his unbridgeable ego had all taken a toll on his relationships, particularly with his loved ones.\n",
            "\n",
            "As he sipped on a whiskey-laced cold beer, Tyson recounted the story of his Checkmate, a.k.a. the Pay Per View special where John Tate, the British wrestler/fencer had nearly destroyed his skull. Tyson hadn't allowed himself to remember that shameful night, trying to keep the horrors compartmentalized. His lawyers told him to \"cut free words\" because it jeopardized lucrative boxing history that Mike needed to rectify or defend himself from public harassment back in the 1990s — so to speak.\n",
            "\n",
            "Then, unprovoked, he brought Black Dynamite in to continue setting the boundaries which had always attracted viewers due primarily to its unguarded side under, it appears.\n",
            "\n",
            "Bobby Van Kirkner of Phoenix’s latest episode can illustrate by exploring a classic with no limitations and just set it loose that may only lead Mike in rekindling earlier relationships and his forgotten friend, some folks whose help has actually appeared and all these. \n",
            "'Whether Ronda? Could they set priorities? Do we encourage the \n",
            "most potent means of protecting friends.'\n",
            "\n",
            "Tyson suddenly shifted his gazel back to his drink and murmured beneath his steady breathing pattern, he used what got.\n",
            "\n",
            "\"And here: did we (their long \n",
            "list of questions)\"\n",
            "In conclusion, \n",
            "\n",
            ". and over each unshakeable the key in new & . Last month '.\n",
            "Then they put on.\" for each.\n",
            "\n",
            "Today they said.\n",
            "Their new, .\n",
            "As his 'a.\n",
            "This type of a true 'n .\n",
            "   Each \n",
            "\n",
            "#1. he wouldn't listen to either of ''In as a''; have that no need.\n",
            "It never affected us both during different nights to some things; if .\"\"' of his dream\n",
            "\". \n",
            "\n",
            "A little better,'' on the other day? Maybe two were different years ago or lessening out by not each day. \"Are all the others?\"\n",
            "\n",
            "But neither of ''the 'was.'\" \n",
            "\n",
            "During difficult times the only 'did happen.\n",
            "... You there! You got 'going you'll go'.'\n",
            "\n",
            "* Tyson chuckled when trying the water out last.' There I be you know and see. \"1:09\" \"Willow you see this because me\"\n",
            "\n",
            "and keep myself ' \n",
            "* * Mike is home again or really.\n",
            "  Ty \n",
            "\n",
            "#### 25 People\n"
          ]
        }
      ],
      "source": [
        "import os\n",
        "from groq import Groq\n",
        "\n",
        "api_key = \"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\"\n",
        "client = Groq(api_key=api_key)\n",
        "\n",
        "\n",
        "def generate_story(client, user_prompt):\n",
        "    story_completion = client.chat.completions.create(\n",
        "        messages=[\n",
        "            {\n",
        "                \"role\": \"user\",\n",
        "                \"content\": f\"Generate a story based on the following prompt: {user_prompt}\",\n",
        "            }\n",
        "        ],\n",
        "        model=\"llama3-8b-8192\",\n",
        "        temperature=1.5, #increased temp for better creativity\n",
        "        max_tokens=2048,\n",
        "        top_p=1,\n",
        "        stop=None,\n",
        "    )\n",
        "    return story_completion.choices[0].message.content\n",
        "\n",
        "\n",
        "def chatbot():\n",
        "    print(\"Welcome to the Story Generator chatbot! Type 'exit' to end the conversation.\")\n",
        "    while True:\n",
        "        user_prompt = input(\"Enter a story prompt: \")\n",
        "        if user_prompt.lower() == 'exit':\n",
        "            print(\"Goodbye!\")\n",
        "            break\n",
        "        story = generate_story(client, user_prompt)\n",
        "        print(\"Story:\", story)\n",
        "\n",
        "if __name__ == \"__main__\":\n",
        "    chatbot()\n"
      ]
    },
    {
      "cell_type": "code",
      "execution_count": null,
      "id": "adcd865d-7665-4a48-834c-104e10b2ee34",
      "metadata": {
        "id": "adcd865d-7665-4a48-834c-104e10b2ee34"
      },
      "outputs": [],
      "source": []
    }
  ],
  "metadata": {
    "kernelspec": {
      "display_name": "Python 3 (ipykernel)",
      "language": "python",
      "name": "python3"
    },
    "language_info": {
      "codemirror_mode": {
        "name": "ipython",
        "version": 3
      },
      "file_extension": ".py",
      "mimetype": "text/x-python",
      "name": "python",
      "nbconvert_exporter": "python",
      "pygments_lexer": "ipython3",
      "version": "3.11.7"
    },
    "colab": {
      "provenance": [],
      "include_colab_link": true
    }
  },
  "nbformat": 4,
  "nbformat_minor": 5
}